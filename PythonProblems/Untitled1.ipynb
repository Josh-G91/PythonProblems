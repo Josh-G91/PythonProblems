{
 "cells": [
  {
   "cell_type": "code",
   "execution_count": 1,
   "metadata": {},
   "outputs": [
    {
     "name": "stdout",
     "output_type": "stream",
     "text": [
      "\n",
      "loaded mnist data!\n",
      "test_data (10000, 784)\n",
      "training_data (60000, 784)\n",
      "training_labels (60000, 1)\n",
      "\n",
      "loaded spam data!\n",
      "test_data (5857, 32)\n",
      "training_data (5172, 32)\n",
      "training_labels (5172, 1)\n",
      "\n",
      "loaded cifar10 data!\n",
      "test_data (10000, 3072)\n",
      "training_data (50000, 3072)\n",
      "training_labels (50000, 1)\n"
     ]
    }
   ],
   "source": [
    "import sys\n",
    "if sys.version_info[0] < 3:\n",
    "    raise Exception(\"Python 3 not detected.\")\n",
    "import numpy as np\n",
    "import matplotlib.pyplot as plt\n",
    "from sklearn.svm import LinearSVC\n",
    "from scipy import io\n",
    "\n",
    "from sklearn.svm import SVC\n",
    "from sklearn.utils import shuffle\n",
    "from sklearn.metrics import accuracy_score\n",
    "from sklearn import preprocessing\n",
    "from warnings import simplefilter\n",
    "from sklearn.pipeline import make_pipeline\n",
    "from sklearn.preprocessing import StandardScaler\n",
    "\n",
    "\n",
    "from sklearn.exceptions import ConvergenceWarning\n",
    "simplefilter(\"ignore\", category=ConvergenceWarning)\n",
    "\n",
    "mnist_data = []\n",
    "spam_data = []\n",
    "cifar_data = []\n",
    "all_data = []\n",
    "\n",
    "for data_name in [\"mnist\", \"spam\", \"cifar10\"]:\n",
    "    data = io.loadmat(\"data/%s_data.mat\" % data_name)\n",
    "    all_data.append(data)\n",
    "    print(\"\\nloaded %s data!\" % data_name)\n",
    "    fields = \"test_data\", \"training_data\", \"training_labels\"\n",
    "    for field in fields:\n",
    "        print(field, data[field].shape)\n",
    "\n",
    "mnist_data = all_data[0]\n",
    "spam_data = all_data[1]\n",
    "cifar_data = all_data[2]\n"
   ]
  },
  {
   "cell_type": "code",
   "execution_count": null,
   "metadata": {},
   "outputs": [],
   "source": [
    "min_max_scaler = preprocessing.MinMaxScaler() # scale in [0,1]\n",
    "X = min_max_scaler.fit_transform(mnist_data[\"training_data\"])\n",
    "X_t = min_max_scaler.fit_transform(mnist_data[\"training_data\"])\n",
    "y = mnist_data[\"training_labels\"]\n",
    "\n",
    "svm = LinearSVC(C = 6)\n",
    "svm.fit(X,y.ravel())\n",
    "y_p = svm.predict(X_t)\n",
    "s = svm.score(X, y)\n",
    "print(s)\n"
   ]
  },
  {
   "cell_type": "code",
   "execution_count": null,
   "metadata": {},
   "outputs": [],
   "source": [
    "X = spam_data[\"training_data\"]\n",
    "y = spam_data[\"training_labels\"]\n",
    "X_t = spam_data[\"test_data\"]\n",
    "\n",
    "svm_clf = make_pipeline(StandardScaler(), \n",
    "                        SVC(gamma='auto',\n",
    "                        kernel = 'rbf', C = 10000))\n",
    "svm_clf.fit(X, y.ravel())\n",
    "y_p = svm_clf.predict(X_t)\n",
    "s = svm_clf.score(X, y)\n",
    "\n",
    "print(s)\n"
   ]
  },
  {
   "cell_type": "code",
   "execution_count": null,
   "metadata": {},
   "outputs": [],
   "source": [
    "\n",
    "X = cifar_data[\"training_data\"]\n",
    "y = cifar_data[\"training_labels\"]\n",
    "X_t = cifar_data[\"test_data\"]\n",
    "#X_pca = pca.fit_transform(X, y)\n",
    "\n",
    "svm_cifar = make_pipeline(StandardScaler(), \n",
    "                        LinearSVC(C=6))\n",
    "\n",
    "#svm_cifar = LinearSVC(loss = 'hinge')\n",
    "svm_cifar.fit(X,y.ravel())\n",
    "y_p = svm_cifar.predict(X_t)\n",
    "s = svm_cifar.score(X, y)\n",
    "print(s)\n"
   ]
  },
  {
   "cell_type": "code",
   "execution_count": null,
   "metadata": {},
   "outputs": [],
   "source": []
  }
 ],
 "metadata": {
  "kernelspec": {
   "display_name": "Python 3",
   "language": "python",
   "name": "python3"
  },
  "language_info": {
   "codemirror_mode": {
    "name": "ipython",
    "version": 3
   },
   "file_extension": ".py",
   "mimetype": "text/x-python",
   "name": "python",
   "nbconvert_exporter": "python",
   "pygments_lexer": "ipython3",
   "version": "3.7.6"
  }
 },
 "nbformat": 4,
 "nbformat_minor": 4
}

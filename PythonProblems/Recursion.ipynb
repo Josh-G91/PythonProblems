{
 "cells": [
  {
   "cell_type": "code",
   "execution_count": 1,
   "metadata": {},
   "outputs": [],
   "source": [
    "def num_eights(x):\n",
    "    if x >= 0 and x <= 9 and x%10  == 8:\n",
    "        return 1\n",
    "    elif x >= 0 and x <= 9 and x%10 != 8:\n",
    "        return 0\n",
    "    else:\n",
    "        return num_eights(x//10) + num_eights(x%10)\n",
    "    \n",
    "    \n",
    "    "
   ]
  },
  {
   "cell_type": "code",
   "execution_count": 2,
   "metadata": {},
   "outputs": [],
   "source": [
    "def count_stair_ways(n):\n",
    "    if n == 1:\n",
    "        return 1\n",
    "    elif n == 2:\n",
    "        return 2\n",
    "    else:\n",
    "        return count_stair_ways(n-1) + count_stair_ways(n-2)\n",
    "    \n",
    "        "
   ]
  },
  {
   "cell_type": "code",
   "execution_count": 3,
   "metadata": {},
   "outputs": [],
   "source": [
    "def fib(n):\n",
    "    if n == 0:\n",
    "        return 0\n",
    "    elif n == 1:\n",
    "        return 1\n",
    "    else:\n",
    "        return fib(n - 1) + fib(n - 2)"
   ]
  },
  {
   "cell_type": "code",
   "execution_count": 4,
   "metadata": {},
   "outputs": [],
   "source": [
    "def fact(n):\n",
    "    print(n)\n",
    "    if n == 0:\n",
    "        return 1\n",
    "    else:\n",
    "        return n*fact(n-1)"
   ]
  },
  {
   "cell_type": "code",
   "execution_count": 8,
   "metadata": {},
   "outputs": [],
   "source": [
    "def missing_digits(n):\n",
    "    \n",
    "    if n >= 0 and n <= 9:\n",
    "        return 0\n",
    "    elif (n%10 - n //10) >= 2:\n",
    "        return n%10 - n //10 - 1\n",
    "    elif n%10 - n//10 == 1  or n%10 - n//10 == 0:\n",
    "        return 0\n",
    "    \n",
    "    else:\n",
    "        return ((missing_digits(n//10)+missing_digits(n%100)))"
   ]
  },
  {
   "cell_type": "code",
   "execution_count": 10,
   "metadata": {},
   "outputs": [],
   "source": [
    "def get_next_coin(coin):\n",
    "    \"\"\"Return the next coin. \n",
    "    >>> get_next_coin(1)\n",
    "    5\n",
    "    >>> get_next_coin(5)\n",
    "    10\n",
    "    >>> get_next_coin(10)\n",
    "    25\n",
    "    >>> get_next_coin(2) # Other values return None\n",
    "    \"\"\"\n",
    "    if coin == 1:\n",
    "        return 5\n",
    "    elif coin == 5:\n",
    "        return 10\n",
    "    elif coin == 10:\n",
    "        return 25"
   ]
  },
  {
   "cell_type": "code",
   "execution_count": 30,
   "metadata": {},
   "outputs": [],
   "source": [
    "def funct0r(x):\n",
    "    return x + 1"
   ]
  },
  {
   "cell_type": "code",
   "execution_count": 39,
   "metadata": {},
   "outputs": [],
   "source": [
    "def countdown(n):\n",
    "    print(\"Beginning countdown!\")\n",
    "    while n >= 0:\n",
    "        yield n\n",
    "        n -= 1\n",
    "    print(\"Blastoff!\")"
   ]
  },
  {
   "cell_type": "code",
   "execution_count": 162,
   "metadata": {},
   "outputs": [],
   "source": [
    "def hailstone(n):\n",
    "    yield n\n",
    "    if n == 1:\n",
    "        return 1\n",
    "    elif n%2 == 0:\n",
    "        yield from hailstone(int(n/2))\n",
    "    elif n%2 == 1:\n",
    "        yield from hailstone(n*3 + 1)\n",
    "\n",
    "    "
   ]
  },
  {
   "cell_type": "code",
   "execution_count": 165,
   "metadata": {},
   "outputs": [
    {
     "data": {
      "text/plain": [
       "10"
      ]
     },
     "execution_count": 165,
     "metadata": {},
     "output_type": "execute_result"
    }
   ],
   "source": [
    "next(iter((hailstone(10))))"
   ]
  },
  {
   "cell_type": "code",
   "execution_count": 171,
   "metadata": {},
   "outputs": [],
   "source": [
    "\n",
    "def make_adder(x):\n",
    "    def adder(y):\n",
    "        return x + y\n",
    "    return adder"
   ]
  },
  {
   "cell_type": "code",
   "execution_count": 198,
   "metadata": {},
   "outputs": [],
   "source": [
    "def summation(n, term):\n",
    "    \n",
    "    assert n >= 1\n",
    "    \n",
    "    if n == 1:\n",
    "        return term(1)\n",
    "    \n",
    "    else:\n",
    "        return term(n) + summation(n-1, term)\n",
    "    \n",
    "    \n",
    "    \n",
    "    \n",
    "    \n",
    "    "
   ]
  },
  {
   "cell_type": "code",
   "execution_count": 204,
   "metadata": {},
   "outputs": [],
   "source": [
    "def compose1(f, g):\n",
    "    \"\"\"\"Return a function h, such that h(x) = f(g(x)).\"\"\"\n",
    "    def h(x):\n",
    "        return f(g(x))\n",
    "    return h"
   ]
  },
  {
   "cell_type": "code",
   "execution_count": 288,
   "metadata": {},
   "outputs": [],
   "source": [
    "def repeated(f, n):\n",
    "    \n",
    "    if n == 0:\n",
    "        return lambda x:x\n",
    "    elif n == 1:\n",
    "        return f\n",
    "    else:\n",
    "        return compose1(f, repeated(f, n-1))\n",
    "    \n",
    "    "
   ]
  },
  {
   "cell_type": "code",
   "execution_count": 382,
   "metadata": {},
   "outputs": [],
   "source": [
    "def squares(s):\n",
    "    \n",
    "    return [int(x**0.5) for x in s if int(x**0.5)**2 == x]\n",
    "    \n",
    "    "
   ]
  },
  {
   "cell_type": "code",
   "execution_count": 467,
   "metadata": {},
   "outputs": [],
   "source": [
    "def g(n):\n",
    "\n",
    "    if n <= 3:\n",
    "        return n\n",
    "    else:\n",
    "        return g(n-1) + 2*g(n-2) + 3*g(n-3)"
   ]
  },
  {
   "cell_type": "code",
   "execution_count": 675,
   "metadata": {},
   "outputs": [],
   "source": [
    "def g_iter(n):\n",
    "    g = []\n",
    "    k = 1\n",
    "    while k <= n:\n",
    "        if k <= 3:\n",
    "            g.append(k)\n",
    "        else:\n",
    "            i = k - 1\n",
    "            g.append((g[i-1] + 2*g[i-2]+3*g[i-3]))\n",
    "        k +=1\n",
    "    return max(g)\n",
    "    "
   ]
  },
  {
   "cell_type": "code",
   "execution_count": 719,
   "metadata": {},
   "outputs": [],
   "source": [
    "def has_seven(k):\n",
    "   \n",
    "    if k % 10 == 7:\n",
    "        return True\n",
    "    elif k < 10:\n",
    "        return False\n",
    "    else:\n",
    "        return has_seven(k // 10)"
   ]
  },
  {
   "cell_type": "code",
   "execution_count": 1168,
   "metadata": {},
   "outputs": [],
   "source": [
    "def dec(n):\n",
    "    if n == 1:\n",
    "        return 1\n",
    "    else:\n",
    "        return 1 + dec(n-1)"
   ]
  },
  {
   "cell_type": "code",
   "execution_count": 1183,
   "metadata": {},
   "outputs": [],
   "source": [
    "def pingpong(n):\n",
    "    if n == 1:\n",
    "        return 1\n",
    "    elif has_seven(n):\n",
    "        return -1*n\n",
    "    elif not has_seven(n):\n",
    "        return 1 + pingpong(n-1)"
   ]
  },
  {
   "cell_type": "code",
   "execution_count": 1184,
   "metadata": {},
   "outputs": [
    {
     "name": "stdout",
     "output_type": "stream",
     "text": [
      "7\n"
     ]
    },
    {
     "data": {
      "text/plain": [
       "-7"
      ]
     },
     "execution_count": 1184,
     "metadata": {},
     "output_type": "execute_result"
    }
   ],
   "source": [
    "pingpong(7)"
   ]
  },
  {
   "cell_type": "code",
   "execution_count": 1270,
   "metadata": {},
   "outputs": [],
   "source": [
    "from operator import add, mul\n",
    "\n",
    "def square(x):\n",
    "    return x * x\n",
    "\n",
    "def triple(x):\n",
    "    return 3 * x\n",
    "\n",
    "def identity(x):\n",
    "    return x\n",
    "\n",
    "def increment(x):\n",
    "    return x + 1"
   ]
  },
  {
   "cell_type": "code",
   "execution_count": 1271,
   "metadata": {},
   "outputs": [],
   "source": [
    "def accumulate(combiner, base, n, term):\n",
    "    num_list = []\n",
    "\n",
    "        \n",
    "    for i in range(1,n+1):\n",
    "        num_list.append(term(i))\n",
    "    if combiner == add:\n",
    "        return base + sum(num_list)\n",
    "    if combiner == mul:\n",
    "        a = 1\n",
    "        for element in num_list:\n",
    "            a*=element\n",
    "        return base * a\n",
    "            \n",
    "        \n",
    "        \n",
    "        \n",
    "    "
   ]
  },
  {
   "cell_type": "code",
   "execution_count": 1272,
   "metadata": {},
   "outputs": [
    {
     "data": {
      "text/plain": [
       "72"
      ]
     },
     "execution_count": 1272,
     "metadata": {},
     "output_type": "execute_result"
    }
   ],
   "source": [
    "accumulate(mul,2, 3, square)"
   ]
  },
  {
   "cell_type": "code",
   "execution_count": 1273,
   "metadata": {},
   "outputs": [],
   "source": [
    "def summation_using_accumulate(n, term):\n",
    "    return accumulate(add, 0, n, term)"
   ]
  },
  {
   "cell_type": "code",
   "execution_count": 1274,
   "metadata": {},
   "outputs": [
    {
     "data": {
      "text/plain": [
       "45"
      ]
     },
     "execution_count": 1274,
     "metadata": {},
     "output_type": "execute_result"
    }
   ],
   "source": [
    "summation_using_accumulate(5, triple)"
   ]
  },
  {
   "cell_type": "code",
   "execution_count": 1277,
   "metadata": {},
   "outputs": [],
   "source": [
    "def product_using_accumulate(n, term):\n",
    "    return accumulate(mul, 1, n, term)"
   ]
  },
  {
   "cell_type": "code",
   "execution_count": 1279,
   "metadata": {},
   "outputs": [
    {
     "data": {
      "text/plain": [
       "524880"
      ]
     },
     "execution_count": 1279,
     "metadata": {},
     "output_type": "execute_result"
    }
   ],
   "source": [
    "product_using_accumulate(6, triple)"
   ]
  },
  {
   "cell_type": "code",
   "execution_count": 63,
   "metadata": {},
   "outputs": [],
   "source": [
    "def iter_gcd(a,b):\n",
    "    q = math.floor(a/b)\n",
    "    r = a - q*b\n",
    "    while r >= 0:\n",
    "        q = math.floor(a/b)\n",
    "        r = a - q*b\n",
    "        a = b\n",
    "        b = r\n",
    "        if r == 0:\n",
    "            return a\n",
    "    \n",
    "    \n",
    "    \n",
    "        "
   ]
  },
  {
   "cell_type": "code",
   "execution_count": 21,
   "metadata": {},
   "outputs": [],
   "source": [
    "import math\n",
    "import functools\n",
    "\n",
    "\n",
    "def gcd(a,b):\n",
    "    q = math.floor(a/b)\n",
    "    r = a - q*b\n",
    "    \n",
    "    if r == 0:\n",
    "        return b\n",
    "    else:\n",
    "        return gcd(b, r)"
   ]
  },
  {
   "cell_type": "code",
   "execution_count": 156,
   "metadata": {},
   "outputs": [],
   "source": [
    "def sum_list(l, i):\n",
    "    if i == 0:\n",
    "        return l[i]\n",
    "    else:\n",
    "        return l[i] + sum_list(l, i-1)\n",
    "    "
   ]
  },
  {
   "cell_type": "code",
   "execution_count": 209,
   "metadata": {},
   "outputs": [],
   "source": [
    "def sum_digits(n):\n",
    "    \n",
    "    if n//10 == 0:\n",
    "        return n\n",
    "    else:\n",
    "        return n%10 + sum_digits(n//10)"
   ]
  },
  {
   "cell_type": "code",
   "execution_count": 230,
   "metadata": {},
   "outputs": [],
   "source": [
    "def sum_series(n):\n",
    "    \n",
    "    if n == 0:\n",
    "        return 0\n",
    "    else:\n",
    "        return n + sum_series(n-2)\n",
    "    \n",
    "        \n",
    "        "
   ]
  },
  {
   "cell_type": "code",
   "execution_count": 2,
   "metadata": {},
   "outputs": [],
   "source": [
    "def power(a,b):\n",
    "    \n",
    "    if b == 1:  \n",
    "        return a\n",
    "    else:\n",
    "        return a*power(a,b-1)"
   ]
  },
  {
   "cell_type": "code",
   "execution_count": 3,
   "metadata": {},
   "outputs": [
    {
     "data": {
      "text/plain": [
       "8"
      ]
     },
     "execution_count": 3,
     "metadata": {},
     "output_type": "execute_result"
    }
   ],
   "source": [
    "power(2,3)"
   ]
  },
  {
   "cell_type": "code",
   "execution_count": null,
   "metadata": {},
   "outputs": [],
   "source": []
  }
 ],
 "metadata": {
  "kernelspec": {
   "display_name": "Python 3",
   "language": "python",
   "name": "python3"
  },
  "language_info": {
   "codemirror_mode": {
    "name": "ipython",
    "version": 3
   },
   "file_extension": ".py",
   "mimetype": "text/x-python",
   "name": "python",
   "nbconvert_exporter": "python",
   "pygments_lexer": "ipython3",
   "version": "3.7.6"
  }
 },
 "nbformat": 4,
 "nbformat_minor": 4
}

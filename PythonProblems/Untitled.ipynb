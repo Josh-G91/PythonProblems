{
 "cells": [
  {
   "cell_type": "code",
   "execution_count": 7,
   "metadata": {},
   "outputs": [],
   "source": [
    "import re"
   ]
  },
  {
   "cell_type": "code",
   "execution_count": 61,
   "metadata": {},
   "outputs": [
    {
     "data": {
      "text/plain": [
       "['',\n",
       " '',\n",
       " '',\n",
       " '',\n",
       " '',\n",
       " '',\n",
       " '',\n",
       " '',\n",
       " '',\n",
       " '',\n",
       " '',\n",
       " '',\n",
       " '',\n",
       " '',\n",
       " '',\n",
       " '',\n",
       " '',\n",
       " '',\n",
       " '',\n",
       " '',\n",
       " '',\n",
       " '',\n",
       " '',\n",
       " '',\n",
       " '',\n",
       " '',\n",
       " '',\n",
       " '',\n",
       " '',\n",
       " '',\n",
       " '',\n",
       " '',\n",
       " '',\n",
       " '',\n",
       " '',\n",
       " '',\n",
       " '',\n",
       " '',\n",
       " '',\n",
       " '',\n",
       " '',\n",
       " '']"
      ]
     },
     "execution_count": 61,
     "metadata": {},
     "output_type": "execute_result"
    }
   ],
   "source": [
    "re.findall(\"()\", \"a few unexpected words are to be expected\")"
   ]
  },
  {
   "cell_type": "code",
   "execution_count": 2,
   "metadata": {},
   "outputs": [],
   "source": [
    "string = \"jooshua-gonzalez.\""
   ]
  },
  {
   "cell_type": "code",
   "execution_count": 3,
   "metadata": {},
   "outputs": [],
   "source": [
    "def show_regex_match(text, regex):\n",
    "    \"\"\"\n",
    "    Prints the string with the regex match highlighted.\n",
    "    \"\"\"\n",
    "    print(re.sub(f'({regex})', r'\\033[1;30;43m\\1\\033[m', text))"
   ]
  },
  {
   "cell_type": "code",
   "execution_count": 4,
   "metadata": {},
   "outputs": [
    {
     "name": "stdout",
     "output_type": "stream",
     "text": [
      "j\u001b[1;30;43moo\u001b[mshua-gonzalez.\n"
     ]
    }
   ],
   "source": [
    "show_regex_match(string, r\"[o]{2}\")"
   ]
  },
  {
   "cell_type": "code",
   "execution_count": null,
   "metadata": {},
   "outputs": [],
   "source": [
    "def sum_arr_rec(a, length):\n",
    "    if len(a) == 1:\n",
    "        return a[0]\n",
    "    else:\n",
    "        return a[len(a)-1] + sum_arr_rec(a[0:len(a)-1], length-1)"
   ]
  },
  {
   "cell_type": "code",
   "execution_count": null,
   "metadata": {},
   "outputs": [],
   "source": [
    "def count_elems(a):\n",
    "    print(a)\n",
    "    if len(a) == 1:\n",
    "        \n",
    "        return 1\n",
    "    else:\n",
    "        return 1 + count_elems(a[0:len(a)-1])\n",
    "    "
   ]
  },
  {
   "cell_type": "code",
   "execution_count": null,
   "metadata": {},
   "outputs": [],
   "source": [
    "def find_max(a, curr_max):\n",
    "    if len(a) == 0:\n",
    "        return curr_max\n",
    "    else:\n",
    "        if curr_max < a[len(a)-1]:\n",
    "            curr_max = a[len(a)-1]\n",
    "        return find_max(a[0:len(a)-1], curr_max)\n",
    "        \n",
    "            "
   ]
  },
  {
   "cell_type": "code",
   "execution_count": null,
   "metadata": {},
   "outputs": [],
   "source": [
    "import math\n",
    "def process(a):\n",
    "    pivot = a[math.floor(len(a)/2)]\n",
    "    #pivot = a[len(a)-1]\n",
    "    temp_low = []\n",
    "    temp_high = []\n",
    "    \n",
    "    for elems in a:\n",
    "        if elems < pivot:\n",
    "            temp_low.append(elems)\n",
    "        elif elems > pivot:\n",
    "            temp_high.append(elems)\n",
    "    return (temp_low, temp_high, [pivot])\n",
    "    \n",
    "    \n",
    "    \n",
    "    "
   ]
  },
  {
   "cell_type": "code",
   "execution_count": null,
   "metadata": {},
   "outputs": [],
   "source": [
    "def quicksort(array):\n",
    "    if len(array) == 2:\n",
    "        if array[0] > array[1]:\n",
    "            saved = array[0]\n",
    "            array[0] = array[1]\n",
    "            array[1] = saved\n",
    "        return array\n",
    "    elif len(array) == 0:\n",
    "        return []\n",
    "    else:\n",
    "        return quicksort(process(array)[0]) + process(array)[2] + quicksort(process(array)[1])\n",
    "        \n",
    "    "
   ]
  },
  {
   "cell_type": "code",
   "execution_count": null,
   "metadata": {},
   "outputs": [],
   "source": [
    "quicksort(arr)"
   ]
  },
  {
   "cell_type": "code",
   "execution_count": 8,
   "metadata": {},
   "outputs": [],
   "source": [
    "def mergesort(a):\n",
    "    if len(a) == 1:\n",
    "        return a\n",
    "    else:\n",
    "        i = math.floor(len(a)/2)\n",
    "        \n",
    "        return merge(mergesort(a[0:i]), mergesort(a[i:len(a)]))\n",
    "    "
   ]
  },
  {
   "cell_type": "code",
   "execution_count": 14,
   "metadata": {},
   "outputs": [],
   "source": [
    "def merge(a_left, a_right):\n",
    "    print(a_left, a_right)\n",
    "    if a_left is None:\n",
    "        print(True)\n",
    "    #if a_left[0] > a_right[0]:\n",
    "    #    return a_right + a_left"
   ]
  },
  {
   "cell_type": "code",
   "execution_count": 29,
   "metadata": {},
   "outputs": [],
   "source": [
    "import math\n",
    "def count_change(amount):\n",
    "    return [2**k for k in range(math.ceil(amount/2)) if 2**k <= amount]"
   ]
  },
  {
   "cell_type": "code",
   "execution_count": 83,
   "metadata": {},
   "outputs": [],
   "source": [
    "import string\n",
    "alph = [l for l in string.ascii_lowercase]\n",
    "index = [x for x in range(0,26)]\n",
    "alphabet = dict(zip(alph, index))\n"
   ]
  },
  {
   "cell_type": "code",
   "execution_count": 65,
   "metadata": {},
   "outputs": [],
   "source": [
    "import math\n",
    "\n",
    "def gcd(a,b):\n",
    "    q = math.floor(a/b)\n",
    "    r = a - q*b\n",
    "    \n",
    "    if r == 0:\n",
    "        return b\n",
    "    else:\n",
    "        return gcd(b, r)"
   ]
  },
  {
   "cell_type": "code",
   "execution_count": 85,
   "metadata": {},
   "outputs": [],
   "source": [
    "def get_inverse(index, a):\n",
    "     for inv in index:\n",
    "        if(inv*a)%26 == 1:\n",
    "            return inv"
   ]
  },
  {
   "cell_type": "code",
   "execution_count": 86,
   "metadata": {},
   "outputs": [],
   "source": [
    "def encode_decode(a,b,alphabet,word,cmd):\n",
    "    encoded_word = ''\n",
    "    decoded_word = ''\n",
    "    m = 26\n",
    "    a_inv = get_inverse(index, a)\n",
    "    \n",
    "    if gcd(a,m) != 1:\n",
    "        print(\"Error: a and m must be coprime\")\n",
    "    else:\n",
    "        if cmd == 'encode':\n",
    "            for l in word:\n",
    "                if l == ' ':\n",
    "                    continue\n",
    "                encoded_word += alph[(a*alphabet[l] + b)%m]\n",
    "            return encoded_word\n",
    "        else:\n",
    "            for l in word:\n",
    "                if l == ' ':\n",
    "                    continue\n",
    "                decoded_word += alph[a_inv*(alphabet[l]-b)%m]\n",
    "            return decoded_word\n",
    "                \n",
    "                    "
   ]
  },
  {
   "cell_type": "code",
   "execution_count": 93,
   "metadata": {},
   "outputs": [],
   "source": [
    "def largest_prod(n, digs):\n",
    "    i, j, prod, stop = 0, n-1, 1, len(digs)-n\n",
    "    temp = []\n",
    "    maps = dict()\n",
    "    while i <= stop:\n",
    "        for j in range(i, j+1):\n",
    "            temp.append(int(digs[j]))\n",
    "            prod*=int(digs[j])\n",
    "        maps[prod] = temp\n",
    "        temp, prod = [], 1\n",
    "        i+=1\n",
    "        j+=1\n",
    "    return max(maps), maps[max(maps)]\n"
   ]
  },
  {
   "cell_type": "code",
   "execution_count": 195,
   "metadata": {},
   "outputs": [],
   "source": [
    "def luhn_check(card_num):\n",
    "    card_num = card_num.replace(\" \",\"\")\n",
    "    index = len(card_num)-1\n",
    "    card_num = [int(x) for x in list(card_num)]\n",
    "    \n",
    "    while index>=0:\n",
    "        if index%2 == 0:\n",
    "            card_num[index] = 2*card_num[index]\n",
    "\n",
    "            if card_num[index] > 9:\n",
    "                card_num[index] = card_num[index] - 9\n",
    "        index -= 1\n",
    "    if sum(card_num)%10 == 0:\n",
    "        return \"Number is Valid\"\n",
    "    else:\n",
    "        return \"Number is not valid\"\n",
    "        "
   ]
  },
  {
   "cell_type": "code",
   "execution_count": 153,
   "metadata": {},
   "outputs": [],
   "source": [
    "def prime_factorization(n):\n",
    "    k = 2\n",
    "    list_primes = []\n",
    "    while n != k:\n",
    "        if n%k == 0:\n",
    "            list_primes.append(k)\n",
    "            q = n/k\n",
    "            n = q \n",
    "        if n%k != 0:\n",
    "            k += 1\n",
    "        if n/k == 1:\n",
    "            list_primes.append(k)\n",
    "    return list_primes\n"
   ]
  }
 ],
 "metadata": {
  "kernelspec": {
   "display_name": "Python 3",
   "language": "python",
   "name": "python3"
  },
  "language_info": {
   "codemirror_mode": {
    "name": "ipython",
    "version": 3
   },
   "file_extension": ".py",
   "mimetype": "text/x-python",
   "name": "python",
   "nbconvert_exporter": "python",
   "pygments_lexer": "ipython3",
   "version": "3.7.6"
  }
 },
 "nbformat": 4,
 "nbformat_minor": 4
}

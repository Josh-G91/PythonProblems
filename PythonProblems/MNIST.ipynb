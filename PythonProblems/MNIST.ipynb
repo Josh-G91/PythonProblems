{
 "cells": [
  {
   "cell_type": "code",
   "execution_count": 20,
   "metadata": {},
   "outputs": [
    {
     "name": "stdout",
     "output_type": "stream",
     "text": [
      "\n",
      "loaded mnist data!\n",
      "test_data (10000, 784)\n",
      "training_data (60000, 784)\n",
      "training_labels (60000, 1)\n",
      "\n",
      "loaded spam data!\n",
      "test_data (5857, 32)\n",
      "training_data (5172, 32)\n",
      "training_labels (5172, 1)\n",
      "\n",
      "loaded cifar10 data!\n",
      "test_data (10000, 3072)\n",
      "training_data (50000, 3072)\n",
      "training_labels (50000, 1)\n"
     ]
    }
   ],
   "source": [
    "import sys\n",
    "if sys.version_info[0] < 3:\n",
    "    raise Exception(\"Python 3 not detected.\")\n",
    "import numpy as np\n",
    "import matplotlib.pyplot as plt\n",
    "from sklearn.svm import LinearSVC\n",
    "from scipy import io\n",
    "from sklearn.utils import shuffle\n",
    "from sklearn.metrics import accuracy_score\n",
    "from sklearn import preprocessing\n",
    "from warnings import simplefilter\n",
    "from sklearn.exceptions import ConvergenceWarning\n",
    "simplefilter(\"ignore\", category=ConvergenceWarning)\n",
    "\n",
    "mnist_data = []\n",
    "spam_data = []\n",
    "cifar_data = []\n",
    "all_data = []\n",
    "\n",
    "for data_name in [\"mnist\", \"spam\", \"cifar10\"]:\n",
    "    data = io.loadmat(\"data/%s_data.mat\" % data_name)\n",
    "    all_data.append(data)\n",
    "    print(\"\\nloaded %s data!\" % data_name)\n",
    "    fields = \"test_data\", \"training_data\", \"training_labels\"\n",
    "    for field in fields:\n",
    "        print(field, data[field].shape)\n",
    "\n",
    "mnist_data = all_data[0]\n",
    "spam_data = all_data[1]\n",
    "cifar_data = all_data[2]\n",
    "\n",
    "mnist_v = mnist_data[\"training_data\"][:10000]\n",
    "y_mnist_v = mnist_data[\"training_labels\"][:10000]\n",
    "mnist_v, y_mnist_v = shuffle(mnist_v, y_mnist_v) # val set\n",
    "\n",
    "mnist_t = mnist_data[\"training_data\"]\n",
    "y_mnist_t = mnist_data[\"training_labels\"]\n",
    "\n",
    "spam_t = spam_data['training_data']\n",
    "y_spam_t =  spam_data['training_labels']\n",
    "spam_t, y_spam_t = shuffle(spam_t, y_spam_t) #train set\n",
    "\n",
    "spam_v = spam_t[:1034]\n",
    "y_spam_v = y_spam_t[:1034]\n",
    "\n",
    "spam_t = spam_t[1034:]\n",
    "y_spam_t = y_spam_t[1034:]\n",
    "\n",
    "cifar_v = cifar_data[\"training_data\"][:5000]\n",
    "y_cifar_v = cifar_data[\"training_labels\"][:5000]\n",
    "cifar_v, y_cifar_v = shuffle(cifar_v, y_cifar_v) # val set\n",
    "\n",
    "cifar_t = cifar_data[\"training_data\"]\n",
    "y_cifar_t = cifar_data[\"training_labels\"]\n",
    "#cifar_t, y_cifar_t = shuffle(cifar_t, y_cifar_t) # train set\n"
   ]
  },
  {
   "cell_type": "code",
   "execution_count": 25,
   "metadata": {
    "scrolled": true
   },
   "outputs": [
    {
     "name": "stdout",
     "output_type": "stream",
     "text": [
      "0.7094\n",
      "0.761\n",
      "0.8286\n",
      "0.8559\n",
      "0.8831\n",
      "0.932\n",
      "0.9681\n"
     ]
    }
   ],
   "source": [
    "min_max_scaler = preprocessing.MinMaxScaler() # scale in [0,1]\n",
    "X_t = min_max_scaler.fit_transform(mnist_t)\n",
    "X_v = min_max_scaler.fit_transform(mnist_v)\n",
    "samps = [100, 200, 500, 1000, 2000, 5000, 10000]\n",
    "svm = LinearSVC()\n",
    "for s in samps:\n",
    "    svm.fit(X_t[:s], y_mnist_t[:s].ravel())\n",
    "    y_p = svm.predict(X_v)\n",
    "    print(accuracy_score(y_mnist_v, y_p))\n"
   ]
  },
  {
   "cell_type": "code",
   "execution_count": 4,
   "metadata": {
    "scrolled": true
   },
   "outputs": [
    {
     "name": "stdout",
     "output_type": "stream",
     "text": [
      "0.8036750483558994\n",
      "0.7485493230174082\n",
      "0.7862669245647969\n",
      "0.7959381044487428\n",
      "0.8075435203094777\n",
      "0.8065764023210832\n"
     ]
    }
   ],
   "source": [
    "samps = [100, 200, 500, 1000, 2000, 4138]\n",
    "svm_spam = LinearSVC()\n",
    "for s in samps:\n",
    "    svm_spam.fit(spam_t[:s], y_spam_t[:s].ravel())\n",
    "    y_p = svm_spam.predict(spam_v)\n",
    "    print(accuracy_score(y_spam_v, y_p))"
   ]
  },
  {
   "cell_type": "code",
   "execution_count": 5,
   "metadata": {
    "scrolled": true
   },
   "outputs": [
    {
     "name": "stdout",
     "output_type": "stream",
     "text": [
      "0.207\n",
      "0.259\n",
      "0.3224\n",
      "0.3962\n",
      "0.5452\n",
      "0.8308\n"
     ]
    }
   ],
   "source": [
    "samps = [100, 200, 500, 1000, 2000,5000]\n",
    "svm_cifar = LinearSVC()\n",
    "\n",
    "for s in samps:\n",
    "    svm_cifar.fit(cifar_t[:s], y_cifar_t[:s].ravel())\n",
    "    y_p = svm_cifar.predict(cifar_v)\n",
    "    print(accuracy_score(y_cifar_v, y_p))"
   ]
  },
  {
   "cell_type": "code",
   "execution_count": 6,
   "metadata": {
    "scrolled": true
   },
   "outputs": [
    {
     "name": "stdout",
     "output_type": "stream",
     "text": [
      "Accuracy for C param:0.01\n",
      "0.9288\n",
      "Accuracy for C param:0.021\n",
      "0.9368\n",
      "Accuracy for C param:0.1\n",
      "0.9507\n",
      "Accuracy for C param:0.31\n",
      "0.9594\n",
      "Accuracy for C param:6\n",
      "0.9732\n",
      "Accuracy for C param:50\n",
      "0.9586\n",
      "Accuracy for C param:100\n",
      "0.9575\n",
      "Accuracy for C param:500\n",
      "0.9628\n"
     ]
    }
   ],
   "source": [
    "c_vals = [0.01, 0.021, 0.1, 0.31, 6, 50, 100, 500]\n",
    "samps = [10000]\n",
    "for c in c_vals:\n",
    "    svm = LinearSVC(C=c)\n",
    "    print('Accuracy for C param:'  + str(c))\n",
    "    for s in samps:\n",
    "        svm.fit(X_t[:s], y_mnist_t[:s].ravel())\n",
    "        y_p = svm.predict(X_v)\n",
    "        \n",
    "        print(accuracy_score(y_mnist_v, y_p))\n"
   ]
  },
  {
   "cell_type": "code",
   "execution_count": 3,
   "metadata": {},
   "outputs": [
    {
     "name": "stdout",
     "output_type": "stream",
     "text": [
      "Accuracy scores at c=0.01 0.7845261121856867\n",
      "Accuracy scores at c=0.021 0.7914893617021276\n",
      "Accuracy scores at c=0.1 0.8003868471953579\n",
      "Accuracy scores at c=0.31 0.8017408123791103\n",
      "Accuracy scores at c=6 0.8063829787234044\n",
      "Accuracy scores at c=50 0.8058027079303676\n",
      "Accuracy scores at c=100 0.8013539651837525\n",
      "Accuracy scores at c=500 0.7793036750483558\n"
     ]
    }
   ],
   "source": [
    "Xt_spam = spam_data['training_data']\n",
    "yt_spam =  spam_data['training_labels']\n",
    "Xt_spam, yt_spam = shuffle(Xt_spam, yt_spam) #train set\n",
    "\n",
    "parts_x = []\n",
    "parts_y = []\n",
    "c_vals = [0.01, 0.021, 0.1, 0.31, 6, 50, 100, 500]\n",
    "\n",
    "for i in range(1,6):\n",
    "    \n",
    "    parts_x.append(Xt_spam[(i-1)*1034:i*1034])\n",
    "    parts_y.append(yt_spam[(i-1)*1034:i*1034])\n",
    "acc = []\n",
    "for c in c_vals:\n",
    "    svm_spam = LinearSVC(C = c)\n",
    "    for i in range (0,5):\n",
    "        j = i\n",
    "        if j == 0:\n",
    "            svm_spam.fit(parts_x[j+4], parts_y[j+4].ravel())\n",
    "            svm_spam.fit(parts_x[j+3], parts_y[j+3].ravel())\n",
    "            svm_spam.fit(parts_x[j+2], parts_y[j+2].ravel())\n",
    "            svm_spam.fit(parts_x[j+1], parts_y[j+1].ravel())\n",
    "            y_p = svm_spam.predict(parts_x[i])\n",
    "            acc.append((accuracy_score(parts_y[i], y_p)))\n",
    "\n",
    "        if j == 1:\n",
    "            svm_spam.fit(parts_x[j+3], parts_y[j+3].ravel())\n",
    "            svm_spam.fit(parts_x[j+2], parts_y[j+2].ravel())\n",
    "            svm_spam.fit(parts_x[j+1], parts_y[j+1].ravel())\n",
    "            svm_spam.fit(parts_x[j-1], parts_y[j-1].ravel())\n",
    "            y_p = svm_spam.predict(parts_x[i])\n",
    "            acc.append((accuracy_score(parts_y[i], y_p)))\n",
    "\n",
    "        if j == 2:\n",
    "            svm_spam.fit(parts_x[j-2], parts_y[j-2].ravel())\n",
    "            svm_spam.fit(parts_x[j-1], parts_y[j-1].ravel())\n",
    "            svm_spam.fit(parts_x[j+1], parts_y[j+1].ravel())\n",
    "            svm_spam.fit(parts_x[j+2], parts_y[j+2].ravel())\n",
    "            y_p = svm_spam.predict(parts_x[i])\n",
    "            acc.append((accuracy_score(parts_y[i], y_p)))\n",
    "\n",
    "        if j == 3:\n",
    "            svm_spam.fit(parts_x[j-3], parts_y[j-3].ravel())\n",
    "            svm_spam.fit(parts_x[j-2], parts_y[j-2].ravel())\n",
    "            svm_spam.fit(parts_x[j-1], parts_y[j-1].ravel())\n",
    "            svm_spam.fit(parts_x[j+1], parts_y[j+1].ravel())\n",
    "            y_p = svm_spam.predict(parts_x[i])\n",
    "            acc.append((accuracy_score(parts_y[i], y_p)))\n",
    "\n",
    "        if j == 4:\n",
    "            svm_spam.fit(parts_x[j-4], parts_y[j-4].ravel())\n",
    "            svm_spam.fit(parts_x[j-3], parts_y[j-3].ravel())\n",
    "            svm_spam.fit(parts_x[j-2], parts_y[j-2].ravel())\n",
    "            svm_spam.fit(parts_x[j-1], parts_y[j-1].ravel())\n",
    "            y_p = svm_spam.predict(parts_x[i])\n",
    "            acc.append((accuracy_score(parts_y[i], y_p)))\n",
    "    print(\"Accuracy scores at c=\"+ str(c), np.average(acc))\n",
    "    acc = []\n",
    "    \n",
    "#use 5 fold cross val\n"
   ]
  },
  {
   "cell_type": "code",
   "execution_count": null,
   "metadata": {},
   "outputs": [],
   "source": []
  }
 ],
 "metadata": {
  "kernelspec": {
   "display_name": "Python 3",
   "language": "python",
   "name": "python3"
  },
  "language_info": {
   "codemirror_mode": {
    "name": "ipython",
    "version": 3
   },
   "file_extension": ".py",
   "mimetype": "text/x-python",
   "name": "python",
   "nbconvert_exporter": "python",
   "pygments_lexer": "ipython3",
   "version": "3.7.6"
  }
 },
 "nbformat": 4,
 "nbformat_minor": 4
}

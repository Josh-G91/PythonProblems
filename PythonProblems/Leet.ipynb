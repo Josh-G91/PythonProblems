{
 "cells": [
  {
   "cell_type": "code",
   "execution_count": 1,
   "metadata": {},
   "outputs": [],
   "source": [
    "def find_min(A):\n",
    "    ans = 0\n",
    "    for i in range(1, len(A)):\n",
    "        if A[i] < ans:\n",
    "            ans = A[i]\n",
    "    return ans"
   ]
  },
  {
   "cell_type": "code",
   "execution_count": 20,
   "metadata": {},
   "outputs": [],
   "source": [
    "import random\n",
    "\n",
    "def solution(N):\n",
    "    length = N\n",
    "    arr = []\n",
    "    i = 0\n",
    "    while i < length:\n",
    "        arr.append(random.randint(1, 1000))\n",
    "        i+=1\n",
    "    return arr "
   ]
  },
  {
   "cell_type": "code",
   "execution_count": 90,
   "metadata": {},
   "outputs": [],
   "source": [
    "\n",
    "def solution(A,B):\n",
    "    count = []\n",
    "    \n",
    "    for k in range(0,len(A)):\n",
    "        i ,a_i, b_i, a_k, b_k = 0,0,0,0,0\n",
    "        \n",
    "        while i < k:\n",
    "            a_i += A[i]\n",
    "            b_i += B[i]\n",
    "            i += 1\n",
    "        j = k\n",
    "        while j < len(A):\n",
    "            a_k += A[j]\n",
    "            b_k += B[j]\n",
    "            j += 1\n",
    "        if a_i==b_i==a_k==b_k:\n",
    "            count.append(True)\n",
    "    return len(count)\n",
    "   "
   ]
  },
  {
   "cell_type": "code",
   "execution_count": 72,
   "metadata": {},
   "outputs": [],
   "source": [
    "def coin_change(coins, amount):\n",
    "    curr_sum = []\n",
    "    temp = []\n",
    "    while amount > 0:\n",
    "        temp = [amount-c for c in coins]\n",
    "        if 0 in temp:\n",
    "            i = temp.index(0)\n",
    "            curr_sum.append(coins[i])\n",
    "            amount-= coins[i]\n",
    "        elif min(temp) < 0 and 0 not in temp:\n",
    "            if not [k for k in temp if k >= 0]:\n",
    "                return -1\n",
    "            i = temp.index(min([k for k in temp if k >= 0]))\n",
    "            curr_sum.append(coins[i])\n",
    "            amount -= coins[i]\n",
    "            temp = []\n",
    "        else:\n",
    "            i = temp.index(min(temp))\n",
    "            curr_sum.append(coins[i])\n",
    "            amount -= coins[i]\n",
    "            temp = []\n",
    "    return len((curr_sum))"
   ]
  },
  {
   "cell_type": "code",
   "execution_count": 73,
   "metadata": {},
   "outputs": [
    {
     "data": {
      "text/plain": [
       "2"
      ]
     },
     "execution_count": 73,
     "metadata": {},
     "output_type": "execute_result"
    }
   ],
   "source": [
    "coin_change([1], 2)"
   ]
  },
  {
   "cell_type": "code",
   "execution_count": 131,
   "metadata": {},
   "outputs": [],
   "source": [
    "def max_subsequence(S):\n",
    "    subs = []\n",
    "    temp = []\n",
    "    m = min(S)\n",
    "    temp.append(m)\n",
    "    for e in S:\n",
    "        if m < e:\n",
    "            max_s = max(temp)        \n",
    "            if max_s > e:\n",
    "                subs.append(temp)\n",
    "                temp = []\n",
    "                temp.append(m)\n",
    "            temp.append(e)\n",
    "    ind = [len(sub) for sub in subs].index(max([len(sub) for sub in subs]))\n",
    "    return subs[ind]"
   ]
  },
  {
   "cell_type": "code",
   "execution_count": 154,
   "metadata": {},
   "outputs": [],
   "source": [
    "def lemonadeChange(bills):\n",
    "    change = 0\n",
    "    cost_lem = 5\n",
    "    curr_bill = []\n",
    "\n",
    "    for b in bills:\n",
    "        curr_bill.append(b)\n",
    "        change = b - cost_lem\n",
    "        if change == 5:\n",
    "            if change not in curr_bill:\n",
    "                    return False\n",
    "            curr_bill.remove(change)\n",
    "        elif change > 5:\n",
    "            while change != 5:\n",
    "                change -= cost_lem\n",
    "                if change not in curr_bill:\n",
    "                    return False\n",
    "                curr_bill.remove(change)\n",
    "    return True\n",
    "        \n",
    "\n"
   ]
  },
  {
   "cell_type": "code",
   "execution_count": 163,
   "metadata": {},
   "outputs": [
    {
     "data": {
      "text/plain": [
       "False"
      ]
     },
     "execution_count": 163,
     "metadata": {},
     "output_type": "execute_result"
    }
   ],
   "source": [
    "lemonadeChange([5,20])"
   ]
  },
  {
   "cell_type": "code",
   "execution_count": 124,
   "metadata": {},
   "outputs": [
    {
     "name": "stdout",
     "output_type": "stream",
     "text": [
      "ZILQULXXCPILWYVYBCHXXUQH\n",
      "AJMRVMYYDQJMXZWZCDIYYVRI\n",
      "BKNSWNZZERKNYAXADEJZZWSJ\n",
      "CLOTXOAAFSLOZBYBEFKAAXTK\n",
      "DMPUYPBBGTMPACZCFGLBBYUL\n",
      "ENQVZQCCHUNQBDADGHMCCZVM\n",
      "FORWARDDIVORCEBEHINDDAWN\n",
      "GPSXBSEEJWPSDFCFIJOEEBXO\n",
      "HQTYCTFFKXQTEGDGJKPFFCYP\n",
      "IRUZDUGGLYRUFHEHKLQGGDZQ\n",
      "JSVAEVHHMZSVGIFILMRHHEAR\n",
      "KTWBFWIINATWHJGJMNSIIFBS\n",
      "LUXCGXJJOBUXIKHKNOTJJGCT\n",
      "AVYDHYKKPCVYJLILOPUKKHDU\n",
      "CWZEIZAAQDWZKBJBPQVAAIEV\n",
      "EXAFJACCREXABDADQRWCCJFW\n",
      "GYBGBBEESFYBDFCFRSXEEBGX\n",
      "AZCHDCGGTGZCFHEHSTYGGDHY\n",
      "DADBFDBBUAADACGCTUZBBFBZ\n",
      "ABEDBEEEVCBEDFCFUVAEEBDA\n",
      "ECAAEACCWECABDADVWBCCEAB\n",
      "ADCDDCCCXCDCBDADWXCCCDDC\n",
      "ABBABBBBYCBBACCCXYABBBAA\n",
      "ABABBAAAZABABBABYZAAABBA\n",
      "AAAAAAAAAAAAAAAAZAAAAAAA\n"
     ]
    }
   ],
   "source": [
    "alp = 'ABCDEFGHIJKLMNOPQRSTUVWXYZ'\n",
    "map_alph = {}\n",
    "i = 0\n",
    "for letter in alp:\n",
    "    map_alph[letter] = i\n",
    "    i+=1\n",
    "letters = list(map_alph.keys())\n",
    "\n",
    "message = 'YHKPTKWWBOHKVXUXABGWWTPG'\n",
    "for j in range(1, len(alp)):\n",
    "    dec_ind = []\n",
    "\n",
    "    for m in message:\n",
    "        n = map_alph[m]%(26-j)\n",
    "        if map_alph[m] >= 26-j:\n",
    "            dec_ind.append(map_alph[m]%(26-j))\n",
    "        else:\n",
    "            dec_ind.append(n+j)\n",
    "    \n",
    "    for k in dec_ind:\n",
    "        emp += letters[k]\n",
    "    print(emp)\n",
    "    emp = \"\"\n"
   ]
  },
  {
   "cell_type": "code",
   "execution_count": 136,
   "metadata": {},
   "outputs": [
    {
     "name": "stdout",
     "output_type": "stream",
     "text": [
      "b\"Welcome to netcat's flag shop!\\n\"\n",
      "b'What would you like to buy?\\n'\n",
      "b\"I only speak JSON, I hope that's ok.\\n\"\n",
      "b'\\n'\n",
      "{'flag': 'crypto{sh0pp1ng_f0r_fl4g5}'}\n"
     ]
    }
   ],
   "source": [
    "\n",
    "import telnetlib\n",
    "import json\n",
    "\n",
    "HOST = \"socket.cryptohack.org\"\n",
    "PORT = 11112\n",
    "\n",
    "tn = telnetlib.Telnet(HOST, PORT)\n",
    "\n",
    "\n",
    "def readline():\n",
    "    return tn.read_until(b\"\\n\")\n",
    "\n",
    "def json_recv():\n",
    "    line = readline()\n",
    "    return json.loads(line.decode())\n",
    "\n",
    "def json_send(hsh):\n",
    "    request = json.dumps(hsh).encode()\n",
    "    tn.write(request)\n",
    "\n",
    "\n",
    "print(readline())\n",
    "print(readline())\n",
    "print(readline())\n",
    "print(readline())\n",
    "\n",
    "\n",
    "request = {\n",
    "    \"buy\": \"flag\"\n",
    "}\n",
    "json_send(request)\n",
    "\n",
    "response = json_recv()\n",
    "\n",
    "print(response)"
   ]
  },
  {
   "cell_type": "code",
   "execution_count": 121,
   "metadata": {},
   "outputs": [],
   "source": [
    "L = [5,2,8,6,3,6,9,5]\n"
   ]
  },
  {
   "cell_type": "code",
   "execution_count": 128,
   "metadata": {},
   "outputs": [
    {
     "data": {
      "text/plain": [
       "[[5, 8, 9],\n",
       " [5, 6, 9],\n",
       " [5, 6, 9],\n",
       " [5, 9],\n",
       " [2, 8, 9],\n",
       " [2, 6, 9],\n",
       " [2, 3, 6, 9, 5],\n",
       " [2, 6, 9],\n",
       " [2, 9],\n",
       " [2, 5, 8, 6, 6, 9],\n",
       " [8, 9],\n",
       " [6, 9],\n",
       " [3, 6, 9],\n",
       " [3, 9],\n",
       " [3, 5, 8, 6, 6, 9],\n",
       " [6, 9],\n",
       " [5, 8, 9],\n",
       " [5, 6, 9],\n",
       " [5, 6, 9],\n",
       " [5, 9]]"
      ]
     },
     "execution_count": 128,
     "metadata": {},
     "output_type": "execute_result"
    }
   ],
   "source": [
    "all_lists"
   ]
  },
  {
   "cell_type": "code",
   "execution_count": 4,
   "metadata": {},
   "outputs": [],
   "source": [
    "lis = [1,2,3,4,5]"
   ]
  },
  {
   "cell_type": "code",
   "execution_count": 32,
   "metadata": {},
   "outputs": [],
   "source": [
    "lis = [3,4,7,2,6,8,12,9,5,3]"
   ]
  },
  {
   "cell_type": "code",
   "execution_count": 33,
   "metadata": {},
   "outputs": [],
   "source": [
    "j = int(len(lis)/2)"
   ]
  },
  {
   "cell_type": "code",
   "execution_count": 34,
   "metadata": {},
   "outputs": [],
   "source": [
    "left = lis[:j]"
   ]
  },
  {
   "cell_type": "code",
   "execution_count": 35,
   "metadata": {},
   "outputs": [],
   "source": [
    "right = lis[j+1:]"
   ]
  },
  {
   "cell_type": "code",
   "execution_count": 36,
   "metadata": {},
   "outputs": [
    {
     "name": "stdout",
     "output_type": "stream",
     "text": [
      "left\n"
     ]
    }
   ],
   "source": [
    "if lis[j] > left[j-1]:\n",
    "    print(\"left\")\n",
    "elif lis[j] > right[j+1]:\n",
    "    print(\"right\")"
   ]
  },
  {
   "cell_type": "code",
   "execution_count": 3,
   "metadata": {},
   "outputs": [],
   "source": [
    "import math\n",
    "sorted_list = [2,4,5,7,9,10,12,14,17]"
   ]
  },
  {
   "cell_type": "code",
   "execution_count": 10,
   "metadata": {},
   "outputs": [
    {
     "data": {
      "text/plain": [
       "2"
      ]
     },
     "execution_count": 10,
     "metadata": {},
     "output_type": "execute_result"
    }
   ],
   "source": [
    "math.floor(2.76)"
   ]
  },
  {
   "cell_type": "code",
   "execution_count": 11,
   "metadata": {},
   "outputs": [],
   "source": [
    "import math\n",
    "def binary_search(A, e):\n",
    "    print(A)\n",
    "    mid = math.floor(len(A)/2)\n",
    "    if A[mid] == e:\n",
    "        return True\n",
    "    if e <= A[mid-1]:\n",
    "        return binary_search(A[:mid],e)\n",
    "    if e >= A[mid+1]:\n",
    "        return binary_search(A[mid:],e)\n",
    "    \n",
    "    "
   ]
  },
  {
   "cell_type": "code",
   "execution_count": 12,
   "metadata": {},
   "outputs": [
    {
     "name": "stdout",
     "output_type": "stream",
     "text": [
      "[2, 4, 5, 7, 9, 10, 12, 14, 17]\n",
      "[9, 10, 12, 14, 17]\n"
     ]
    }
   ],
   "source": [
    "binary_search(sorted_list, 11)"
   ]
  },
  {
   "cell_type": "code",
   "execution_count": 50,
   "metadata": {},
   "outputs": [],
   "source": [
    "def make_binary(n):\n",
    "    if n == 1:\n",
    "        return str(1)\n",
    "    elif n%2 == 1:\n",
    "        return str(make_binary(math.floor(n/2))) + str(1)\n",
    "    elif n%2 == 0:\n",
    "        return str(make_binary(n/2)) + str(0)\n",
    "    "
   ]
  },
  {
   "cell_type": "code",
   "execution_count": 4,
   "metadata": {},
   "outputs": [
    {
     "data": {
      "text/plain": [
       "'1001'"
      ]
     },
     "execution_count": 4,
     "metadata": {},
     "output_type": "execute_result"
    }
   ],
   "source": [
    "make_binary(9)"
   ]
  },
  {
   "cell_type": "code",
   "execution_count": 1,
   "metadata": {},
   "outputs": [],
   "source": [
    "def find_root(p):\n",
    "    ints = [14,6,11]\n",
    "    for i in ints:\n",
    "        for a in range(1, p):\n",
    "            if((a)**2%29 == i):\n",
    "                \n",
    "                print(\"QUADRATIC RESIDUE!! \" + str(a) +\" \"+ str(i))\n",
    "            "
   ]
  },
  {
   "cell_type": "code",
   "execution_count": 2,
   "metadata": {},
   "outputs": [
    {
     "name": "stdout",
     "output_type": "stream",
     "text": [
      "QUADRATIC RESIDUE!! 8 6\n",
      "QUADRATIC RESIDUE!! 21 6\n"
     ]
    }
   ],
   "source": [
    "find_root(29)"
   ]
  },
  {
   "cell_type": "code",
   "execution_count": 3,
   "metadata": {},
   "outputs": [],
   "source": [
    "p = (101524035174539890485408575671085261788758965189060164484385690801466167356667036677932998889725476582421738788500738738503134356158197247473850273565349249573867251280253564698939768700489401960767007716413932851838937641880157263936985954881657889497583485535527613578457628399173971810541670838543309159139)\n",
    "\n",
    "ints = [25081841204695904475894082974192007718642931811040324543182130088804239047149283334700530600468528298920930150221871666297194395061462592781551275161695411167049544771049769000895119729307495913024360169904315078028798025169985966732789207320203861858234048872508633514498384390497048416012928086480326832803, 45471765180330439060504647480621449634904192839383897212809808339619841633826534856109999027962620381874878086991125854247108359699799913776917227058286090426484548349388138935504299609200377899052716663351188664096302672712078508601311725863678223874157861163196340391008634419348573975841578359355931590555, 17364140182001694956465593533200623738590196990236340894554145562517924989208719245429557645254953527658049246737589538280332010533027062477684237933221198639948938784244510469138826808187365678322547992099715229218615475923754896960363138890331502811292427146595752813297603265829581292183917027983351121325, 14388109104985808487337749876058284426747816961971581447380608277949200244660381570568531129775053684256071819837294436069133592772543582735985855506250660938574234958754211349215293281645205354069970790155237033436065434572020652955666855773232074749487007626050323967496732359278657193580493324467258802863, 4379499308310772821004090447650785095356643590411706358119239166662089428685562719233435615196994728767593223519226235062647670077854687031681041462632566890129595506430188602238753450337691441293042716909901692570971955078924699306873191983953501093343423248482960643055943413031768521782634679536276233318, 85256449776780591202928235662805033201684571648990042997557084658000067050672130152734911919581661523957075992761662315262685030115255938352540032297113615687815976039390537716707854569980516690246592112936796917504034711418465442893323439490171095447109457355598873230115172636184525449905022174536414781771, 50576597458517451578431293746926099486388286246142012476814190030935689430726042810458344828563913001012415702876199708216875020997112089693759638454900092580746638631062117961876611545851157613835724635005253792316142379239047654392970415343694657580353333217547079551304961116837545648785312490665576832987, 96868738830341112368094632337476840272563704408573054404213766500407517251810212494515862176356916912627172280446141202661640191237336568731069327906100896178776245311689857997012187599140875912026589672629935267844696976980890380730867520071059572350667913710344648377601017758188404474812654737363275994871, 4881261656846638800623549662943393234361061827128610120046315649707078244180313661063004390750821317096754282796876479695558644108492317407662131441224257537276274962372021273583478509416358764706098471849536036184924640593888902859441388472856822541452041181244337124767666161645827145408781917658423571721, 18237936726367556664171427575475596460727369368246286138804284742124256700367133250078608537129877968287885457417957868580553371999414227484737603688992620953200143688061024092623556471053006464123205133894607923801371986027458274343737860395496260538663183193877539815179246700525865152165600985105257601565]\n"
   ]
  },
  {
   "cell_type": "code",
   "execution_count": 4,
   "metadata": {},
   "outputs": [],
   "source": [
    "legendre_symbol = lambda a, p: pow(a, (p-1)//2, p)\n"
   ]
  },
  {
   "cell_type": "code",
   "execution_count": 5,
   "metadata": {},
   "outputs": [
    {
     "data": {
      "text/plain": [
       "[(85256449776780591202928235662805033201684571648990042997557084658000067050672130152734911919581661523957075992761662315262685030115255938352540032297113615687815976039390537716707854569980516690246592112936796917504034711418465442893323439490171095447109457355598873230115172636184525449905022174536414781771,\n",
       "  1)]"
      ]
     },
     "execution_count": 5,
     "metadata": {},
     "output_type": "execute_result"
    }
   ],
   "source": [
    "[(a, legendre_symbol(a, p)) for a in ints if legendre_symbol(a, p) == 1]"
   ]
  },
  {
   "cell_type": "code",
   "execution_count": 6,
   "metadata": {},
   "outputs": [],
   "source": [
    "num = 85256449776780591202928235662805033201684571648990042997557084658000067050672130152734911919581661523957075992761662315262685030115255938352540032297113615687815976039390537716707854569980516690246592112936796917504034711418465442893323439490171095447109457355598873230115172636184525449905022174536414781771"
   ]
  },
  {
   "cell_type": "code",
   "execution_count": 7,
   "metadata": {},
   "outputs": [
    {
     "data": {
      "text/plain": [
       "93291799125366706806545638475797430512104976066103610269938025709952247020061090804870186195285998727680200979853848718589126765742550855954805290253592144209552123062161458584575060939481368210688629862036958857604707468372384278049741369153506182660264876115428251983455344219194133033177700490981696141526"
      ]
     },
     "execution_count": 7,
     "metadata": {},
     "output_type": "execute_result"
    }
   ],
   "source": [
    "pow(num,(p+1)//4,p)"
   ]
  },
  {
   "cell_type": "code",
   "execution_count": 98,
   "metadata": {},
   "outputs": [
    {
     "data": {
      "text/plain": [
       "1"
      ]
     },
     "execution_count": 98,
     "metadata": {},
     "output_type": "execute_result"
    }
   ],
   "source": [
    "legendre_symbol(9, 19)"
   ]
  },
  {
   "cell_type": "code",
   "execution_count": 97,
   "metadata": {},
   "outputs": [
    {
     "data": {
      "text/plain": [
       "5"
      ]
     },
     "execution_count": 97,
     "metadata": {},
     "output_type": "execute_result"
    }
   ],
   "source": [
    "pow(6,(19+1)//4,19)"
   ]
  },
  {
   "cell_type": "code",
   "execution_count": 7,
   "metadata": {},
   "outputs": [],
   "source": [
    "import numpy as np\n",
    "import timeit as TI\n",
    "import math\n"
   ]
  },
  {
   "cell_type": "code",
   "execution_count": 10,
   "metadata": {},
   "outputs": [],
   "source": [
    "v0 = np.array([[4],[1],[3],[-1]])\n",
    "v1 = np.array([[2],[1],[-3],[4]])\n",
    "v2 = np.array([[1],[0],[-2],[7]])\n",
    "v3 = np.array([[6],[2],[9],[-5]])\n",
    "list_vecs = [v0,v1,v2,v3]"
   ]
  },
  {
   "cell_type": "code",
   "execution_count": 11,
   "metadata": {},
   "outputs": [],
   "source": [
    "def gram_schmidt_magic(list_vecs):\n",
    "    \n",
    "    k = len(list_vecs)\n",
    "    projs = []\n",
    "    gram_vecs = [list_vecs[0]]\n",
    "    u = 1\n",
    "    s = 0\n",
    "    for i in range(u, k):\n",
    "        for j in range(0, i):\n",
    "            projs.append(np.dot(list_vecs[i].T, gram_vecs[j])/np.dot(gram_vecs[j].T, gram_vecs[j]))\n",
    "        for k in range(0, i):\n",
    "            s += projs[k]*gram_vecs[k]\n",
    "        gram_vecs.append(list_vecs[i] - s)\n",
    "        s = 0\n",
    "        u+=1\n",
    "        mu = []\n",
    "            \n",
    "    return gram_vecs            \n",
    "            \n",
    "                \n",
    "            \n",
    "            \n",
    "            "
   ]
  },
  {
   "cell_type": "code",
   "execution_count": 12,
   "metadata": {},
   "outputs": [
    {
     "name": "stdout",
     "output_type": "stream",
     "text": [
      "40.7 µs ± 142 ns per loop (mean ± std. dev. of 7 runs, 10000 loops each)\n"
     ]
    }
   ],
   "source": [
    "timeit(gram_schmidt_magic(list_vecs))"
   ]
  },
  {
   "cell_type": "code",
   "execution_count": 17,
   "metadata": {},
   "outputs": [],
   "source": [
    "def gauss_lattice_reduction(v1, v2):\n",
    "    m = 0\n",
    "    while(True):\n",
    "        \n",
    "        if np.dot(v2.T, v2) < np.dot(v1.T, v1):\n",
    "            temp = v1\n",
    "            v1 = v2\n",
    "            v2 = temp\n",
    "        m = math.floor(np.dot(v1.T, v2)/np.dot(v1.T,v1))\n",
    "        if m == 0:\n",
    "            return v1, v2\n",
    "        v2 = v2 - m*v1\n",
    "         "
   ]
  },
  {
   "cell_type": "code",
   "execution_count": 18,
   "metadata": {},
   "outputs": [],
   "source": [
    "v1 = np.array([[846835985], [9834798552]])\n",
    "v2 = np.array([[87502093], [123094980]])"
   ]
  },
  {
   "cell_type": "code",
   "execution_count": 19,
   "metadata": {},
   "outputs": [
    {
     "data": {
      "text/plain": [
       "(array([[ 87502093],\n",
       "        [123094980]]),\n",
       " array([[-4053281223],\n",
       "        [ 2941479672]]))"
      ]
     },
     "execution_count": 19,
     "metadata": {},
     "output_type": "execute_result"
    }
   ],
   "source": [
    "(gauss_lattice_reduction(v1,v2))"
   ]
  },
  {
   "cell_type": "code",
   "execution_count": 21,
   "metadata": {},
   "outputs": [
    {
     "name": "stdout",
     "output_type": "stream",
     "text": [
      "Public key: (11596736616441366905579551578368704707846250355777052072521910647014811567713851968344766693454550047224855142053183706429908163113890474541315912143214311, 727063444817703704042567914070173780438390541097855732356143502582431560112495844912032853310450121757548633561756374406760279470267541259362710901279252)\n",
      "Encrypted Flag: 3252100321910473525969742568750735634087230211601240798478068043691022343310308558354912433537475000128780551850726248701078467138230590012614559210624634\n",
      "Private key: (71400327760116458485355162338786230592511771849362589301524056460302013378109, 60836953981279259021360173796758803626944437755846726014395623428820148196720)\n"
     ]
    }
   ],
   "source": [
    "from Crypto.Util.number import getPrime, inverse, bytes_to_long\n",
    "import random\n",
    "import math\n",
    "\n",
    "FLAG = b'crypto{?????????????????????}'\n",
    "\n",
    "\n",
    "def gen_key():\n",
    "    q = getPrime(512)\n",
    "    upper_bound = int(math.sqrt(q // 2))\n",
    "    lower_bound = int(math.sqrt(q // 4))\n",
    "    f = random.randint(2, upper_bound)\n",
    "    while True:\n",
    "        g = random.randint(lower_bound, upper_bound)\n",
    "        if math.gcd(f, g) == 1:\n",
    "            break\n",
    "    h = (inverse(f, q)*g) % q\n",
    "    return (q, h), (f, g)\n",
    "\n",
    "\n",
    "def encrypt(q, h, m):\n",
    "    assert m < int(math.sqrt(q // 2))\n",
    "    r = random.randint(2, int(math.sqrt(q // 2)))\n",
    "    e = (r*h + m) % q\n",
    "    return e\n",
    "\n",
    "\n",
    "def decrypt(q, h, f, g, e):\n",
    "    a = (f*e) % q\n",
    "    m = (a*inverse(f, g)) % g\n",
    "    return m\n",
    "\n",
    "\n",
    "public, private = gen_key()\n",
    "q, h = public\n",
    "f, g = private\n",
    "\n",
    "m = bytes_to_long(FLAG)\n",
    "e = encrypt(q, h, m)\n",
    "\n",
    "print(f'Public key: {(q,h)}')\n",
    "print(f'Encrypted Flag: {e}')\n",
    "print(f'Private key: {(f,g)}')"
   ]
  },
  {
   "cell_type": "code",
   "execution_count": 22,
   "metadata": {},
   "outputs": [],
   "source": [
    "v1 = np.array([[11596736616441366905579551578368704707846250355777052072521910647014811567713851968344766693454550047224855142053183706429908163113890474541315912143214311], [727063444817703704042567914070173780438390541097855732356143502582431560112495844912032853310450121757548633561756374406760279470267541259362710901279252]])\n",
    "v2 = np.array([[71400327760116458485355162338786230592511771849362589301524056460302013378109], [60836953981279259021360173796758803626944437755846726014395623428820148196720]])"
   ]
  },
  {
   "cell_type": "code",
   "execution_count": 23,
   "metadata": {},
   "outputs": [],
   "source": [
    "#Public key: (7638232120454925879231554234011842347641017888219021175304217358715878636183252433454896490677496516149889316745664606749499241420160898019203925115292257, 2163268902194560093843693572170199707501787797497998463462129592239973581462651622978282637513865274199374452805292639586264791317439029535926401109074800)\n",
    "#Encrypted Flag: 5605696495253720664142881956908624307570671858477482119657436163663663844731169035682344974286379049123733356009125671924280312532755241162267269123486523\n"
   ]
  },
  {
   "cell_type": "code",
   "execution_count": 24,
   "metadata": {},
   "outputs": [
    {
     "data": {
      "text/plain": [
       "(array([[71400327760116458485355162338786230592511771849362589301524056460302013378109],\n",
       "        [60836953981279259021360173796758803626944437755846726014395623428820148196720]],\n",
       "       dtype=object),\n",
       " array([[4518950361379098855897199738379571291045010903390050683991438685103637455373747608089895999180590235431686288422070855574234755652786180848915858421165438],\n",
       "        [-5303594539487489687081577253031906359243462071665874132056667796477997359794840051741731522282244921122848738668040359617878336470448115444848960499186588]],\n",
       "       dtype=object))"
      ]
     },
     "execution_count": 24,
     "metadata": {},
     "output_type": "execute_result"
    }
   ],
   "source": [
    "gauss_lattice_reduction(v1,v2)"
   ]
  },
  {
   "cell_type": "code",
   "execution_count": 56,
   "metadata": {},
   "outputs": [],
   "source": [
    "label = [108,97,98,101,108]"
   ]
  },
  {
   "cell_type": "code",
   "execution_count": 57,
   "metadata": {},
   "outputs": [
    {
     "name": "stdout",
     "output_type": "stream",
     "text": [
      "1101100\n",
      "1100001\n",
      "1100010\n",
      "1100101\n",
      "1101100\n"
     ]
    }
   ],
   "source": [
    "l = []\n",
    "for l in label:\n",
    "    print((make_binary(l)))"
   ]
  },
  {
   "cell_type": "code",
   "execution_count": 59,
   "metadata": {},
   "outputs": [],
   "source": [
    "label_bin = [1101100,\n",
    "1100001,\n",
    "1100010,\n",
    "1100101,\n",
    "1101100]"
   ]
  },
  {
   "cell_type": "code",
   "execution_count": 80,
   "metadata": {},
   "outputs": [
    {
     "data": {
      "text/plain": [
       "'1101'"
      ]
     },
     "execution_count": 80,
     "metadata": {},
     "output_type": "execute_result"
    }
   ],
   "source": [
    "make_binary(13)"
   ]
  },
  {
   "cell_type": "code",
   "execution_count": 88,
   "metadata": {},
   "outputs": [],
   "source": [
    "def binary_to_int(b):\n",
    "    b_string = str(b)\n",
    "    k = len(b_string)-1\n",
    "    n = 0\n",
    "    for num in b_string:\n",
    "        n+=(2**k)*int(num)\n",
    "        k-=1\n",
    "    return n\n",
    "        \n",
    "    \n",
    "    "
   ]
  },
  {
   "cell_type": "code",
   "execution_count": 95,
   "metadata": {},
   "outputs": [],
   "source": [
    "def XOR(a, b):\n",
    "    sum_ = str(a+b)\n",
    "    temp = \"\"\n",
    "    for t in sum_:\n",
    "        temp += str(int(t)%2)\n",
    "    return int(temp)\n",
    "    \n",
    "    "
   ]
  },
  {
   "cell_type": "code",
   "execution_count": 109,
   "metadata": {},
   "outputs": [],
   "source": [
    "nums=[]\n",
    "for bins in label_bin:\n",
    "    nums.append(binary_to_int((XOR(bins, int(make_binary(13))))))\n",
    "    "
   ]
  },
  {
   "cell_type": "code",
   "execution_count": 120,
   "metadata": {},
   "outputs": [
    {
     "data": {
      "text/plain": [
       "[97, 108, 111, 104, 97]"
      ]
     },
     "execution_count": 120,
     "metadata": {},
     "output_type": "execute_result"
    }
   ],
   "source": [
    "nums"
   ]
  },
  {
   "cell_type": "code",
   "execution_count": 122,
   "metadata": {},
   "outputs": [
    {
     "data": {
      "text/plain": [
       "'1010111'"
      ]
     },
     "execution_count": 122,
     "metadata": {},
     "output_type": "execute_result"
    }
   ],
   "source": [
    "(str(make_binary(87)))"
   ]
  },
  {
   "cell_type": "code",
   "execution_count": 115,
   "metadata": {},
   "outputs": [
    {
     "data": {
      "text/plain": [
       "310400273487"
      ]
     },
     "execution_count": 115,
     "metadata": {},
     "output_type": "execute_result"
    }
   ],
   "source": [
    "310400273487"
   ]
  },
  {
   "cell_type": "code",
   "execution_count": null,
   "metadata": {},
   "outputs": [],
   "source": [
    "'0 1001 0000 1000 1010 1001 1000 1001 1000 1001 111'\n"
   ]
  },
  {
   "cell_type": "code",
   "execution_count": 1,
   "metadata": {},
   "outputs": [
    {
     "data": {
      "text/plain": [
       "b'\\x02%D\\xc0'"
      ]
     },
     "execution_count": 1,
     "metadata": {},
     "output_type": "execute_result"
    }
   ],
   "source": [
    "bytes.fromhex('022544c0')"
   ]
  },
  {
   "cell_type": "code",
   "execution_count": 12,
   "metadata": {},
   "outputs": [],
   "source": [
    "import math\n",
    "def make_binary(n):\n",
    "    if n == 1:\n",
    "        return str(1)\n",
    "    elif n%2 == 1:\n",
    "        return str(make_binary(math.floor(n/2))) + str(1)\n",
    "    elif n%2 == 0:\n",
    "        return str(make_binary(n/2)) + str(0)\n",
    "    "
   ]
  },
  {
   "cell_type": "code",
   "execution_count": 13,
   "metadata": {},
   "outputs": [],
   "source": [
    "def make_hex(n):\n",
    "    if n == 0:return \"0x\"\n",
    "    elif n%16 == 0:return str(make_hex((n//16))) + str(0)\n",
    "    elif n%16 == 1:return str(make_hex((n//16))) + str(1)\n",
    "    elif n%16 == 2:return str(make_hex((n//16))) + str(2)\n",
    "    elif n%16 == 3:return str(make_hex((n//16))) + str(3)\n",
    "    elif n%16 == 4:return str(make_hex((n//16))) + str(4)\n",
    "    elif n%16 == 5:return str(make_hex((n//16))) + str(5)\n",
    "    elif n%16 == 6:return str(make_hex((n//16))) + str(6)\n",
    "    elif n%16 == 7:return str(make_hex((n//16))) + str(7)\n",
    "    elif n%16 == 8:return str(make_hex((n//16))) + str(8)\n",
    "    elif n%16 == 9:return str(make_hex((n//16))) + str(9)\n",
    "    elif n%16 == 10:return str(make_hex((n//16))) + 'A'\n",
    "    elif n%16 == 11:return str(make_hex((n//16))) + 'B'\n",
    "    elif n%16 == 12:return str(make_hex((n//16))) + 'C'\n",
    "    elif n%16 == 13:return str(make_hex((n//16))) + 'D'\n",
    "    elif n%16 == 14:return str(make_hex((n//16))) + 'E'\n",
    "    elif n%16 == 15:return str(make_hex((n//16))) + 'F'\n",
    "    \n",
    "   "
   ]
  },
  {
   "cell_type": "code",
   "execution_count": 42,
   "metadata": {},
   "outputs": [
    {
     "data": {
      "text/plain": [
       "'0xB'"
      ]
     },
     "execution_count": 42,
     "metadata": {},
     "output_type": "execute_result"
    }
   ],
   "source": [
    "make_hex(11)"
   ]
  },
  {
   "cell_type": "code",
   "execution_count": 40,
   "metadata": {},
   "outputs": [
    {
     "data": {
      "text/plain": [
       "'1100'"
      ]
     },
     "execution_count": 40,
     "metadata": {},
     "output_type": "execute_result"
    }
   ],
   "source": [
    "make_binary(12)"
   ]
  },
  {
   "cell_type": "code",
   "execution_count": 16,
   "metadata": {},
   "outputs": [
    {
     "data": {
      "text/plain": [
       "b'r\\xbc\\xa9\\xb6\\x8f\\xc1j\\xc7\\xbe\\xeb\\x8f\\x84\\x9d\\xca\\x1d\\x8ax>\\x8a\\xcf\\x96y\\xbf\\x92i\\xf7\\xbf'"
      ]
     },
     "execution_count": 16,
     "metadata": {},
     "output_type": "execute_result"
    }
   ],
   "source": [
    "bytes.fromhex('72bca9b68fc16ac7beeb8f849dca1d8a783e8acf9679bf9269f7bf')"
   ]
  },
  {
   "cell_type": "code",
   "execution_count": 17,
   "metadata": {},
   "outputs": [],
   "source": [
    "import base64"
   ]
  },
  {
   "cell_type": "code",
   "execution_count": 54,
   "metadata": {},
   "outputs": [
    {
     "data": {
      "text/plain": [
       "b'NA=='"
      ]
     },
     "execution_count": 54,
     "metadata": {},
     "output_type": "execute_result"
    }
   ],
   "source": [
    "base64.b64encode(b'4')"
   ]
  },
  {
   "cell_type": "code",
   "execution_count": 2,
   "metadata": {},
   "outputs": [
    {
     "data": {
      "text/plain": [
       "10"
      ]
     },
     "execution_count": 2,
     "metadata": {},
     "output_type": "execute_result"
    }
   ],
   "source": [
    "from functools import reduce\n",
    "total = reduce(lambda x,y: x+y, [1,2,3,4])\n",
    "total"
   ]
  },
  {
   "cell_type": "code",
   "execution_count": 303,
   "metadata": {},
   "outputs": [],
   "source": [
    "def groupSort(arr):\n",
    "    \n",
    "    set_nums = set(arr)\n",
    "    created_list = [[s,arr.count(s)] for s in set_nums]\n",
    "    sup = max(created_list)[1]\n",
    "    desc = [max(created_list)]\n",
    "    \n",
    "    for elem in created_list:\n",
    "        if elem == max(created_list):\n",
    "            continue\n",
    "        elif elem[1] < sup:\n",
    "            desc.append(elem)\n",
    "        else:\n",
    "            desc.append(elem)\n",
    "    \n",
    "    matching = [freq for freq in desc if freq[1] >= 1]\n",
    "    \n",
    "    print(matching)\n",
    "    inf = min(desc)[0]\n",
    "    asc = [min(desc)]\n",
    "    \n",
    "    if len(matching) > 1:\n",
    "        for elem in desc:\n",
    "            if elem == min(created_list):\n",
    "                continue\n",
    "            elif elem in matching and elem[0] > inf:\n",
    "                asc.append(elem)\n",
    "            else:\n",
    "                asc.append(elem)\n",
    "        return asc\n",
    "    return desc\n",
    "            \n",
    "    \n",
    "    "
   ]
  },
  {
   "cell_type": "code",
   "execution_count": 304,
   "metadata": {},
   "outputs": [],
   "source": [
    "arr = [1,1,1,2,2,3]"
   ]
  },
  {
   "cell_type": "code",
   "execution_count": 305,
   "metadata": {},
   "outputs": [
    {
     "name": "stdout",
     "output_type": "stream",
     "text": [
      "[[3, 1], [1, 3], [2, 2]]\n"
     ]
    },
    {
     "data": {
      "text/plain": [
       "[[1, 3], [3, 1], [2, 2]]"
      ]
     },
     "execution_count": 305,
     "metadata": {},
     "output_type": "execute_result"
    }
   ],
   "source": [
    "groupSort(arr)"
   ]
  },
  {
   "cell_type": "code",
   "execution_count": 351,
   "metadata": {},
   "outputs": [],
   "source": [
    "def isunique(word):\n",
    "    letters = set(word)\n",
    "    mapping = {l: 0 for l in letters}\n",
    "    for k,v in mapping.items():\n",
    "        count = 0\n",
    "        for letter in word:\n",
    "            if letter == k:\n",
    "                count +=1\n",
    "            mapping[k] = count\n",
    "    return not list(filter(lambda x: x>1, mapping.values())) \n"
   ]
  },
  {
   "cell_type": "code",
   "execution_count": 354,
   "metadata": {},
   "outputs": [
    {
     "data": {
      "text/plain": [
       "False"
      ]
     },
     "execution_count": 354,
     "metadata": {},
     "output_type": "execute_result"
    }
   ],
   "source": [
    "isunique(\"joshuagonzalez\")\n"
   ]
  },
  {
   "cell_type": "code",
   "execution_count": 369,
   "metadata": {},
   "outputs": [],
   "source": [
    "def get_mapping(mapping, word):\n",
    "    \n",
    "    for k,v in mapping.items():\n",
    "        count = 0\n",
    "        for letter in word:\n",
    "            if letter == k:\n",
    "                count +=1\n",
    "            mapping[k] = count\n",
    "    return mapping"
   ]
  },
  {
   "cell_type": "code",
   "execution_count": 386,
   "metadata": {},
   "outputs": [],
   "source": [
    "import math\n",
    "def check_permutation(str_1, str_2):\n",
    "    \n",
    "    map_1 = {l: 0 for l in set(str_1)}\n",
    "    map_2 = {l: 0 for l in set(str_2)}\n",
    "    w_1 = get_mapping(map_1, str_1)\n",
    "    w_2 = get_mapping(map_2, str_2)\n",
    "    \n",
    "    return w_1 == w_2\n",
    "    \n",
    "    \n",
    "    "
   ]
  },
  {
   "cell_type": "code",
   "execution_count": 388,
   "metadata": {},
   "outputs": [
    {
     "data": {
      "text/plain": [
       "True"
      ]
     },
     "execution_count": 388,
     "metadata": {},
     "output_type": "execute_result"
    }
   ],
   "source": [
    "check_permutation('hsoj', 'josh')"
   ]
  },
  {
   "cell_type": "code",
   "execution_count": 613,
   "metadata": {},
   "outputs": [],
   "source": [
    "def reverse(x) -> int:\n",
    "    if x//10 == 0:\n",
    "        return x\n",
    "    elif x < 0:\n",
    "        return -1*(int(str(-1*x%10) + str(reverse(-1*x//10))))\n",
    "    else:\n",
    "        return str(x%10) + str(reverse(x//10))\n"
   ]
  },
  {
   "cell_type": "code",
   "execution_count": 616,
   "metadata": {},
   "outputs": [
    {
     "data": {
      "text/plain": [
       "109"
      ]
     },
     "execution_count": 616,
     "metadata": {},
     "output_type": "execute_result"
    }
   ],
   "source": [
    "int(reverse(9010))"
   ]
  },
  {
   "cell_type": "code",
   "execution_count": 69,
   "metadata": {},
   "outputs": [],
   "source": [
    "def myPow(x: float, n: int) -> float:\n",
    "    \n",
    "    if n ==  1:\n",
    "        return x\n",
    "    if n == 0:\n",
    "        return x*x\n",
    "    #if n == -1:\n",
    "    #    return 1/x\n",
    "    else:\n",
    "        \n",
    "     #   if n < 0:\n",
    "     #       return (1/x)*myPow(x, n+1)\n",
    "\n",
    "        return x*myPow(x, n-1)"
   ]
  },
  {
   "cell_type": "code",
   "execution_count": 70,
   "metadata": {},
   "outputs": [
    {
     "data": {
      "text/plain": [
       "32"
      ]
     },
     "execution_count": 70,
     "metadata": {},
     "output_type": "execute_result"
    }
   ],
   "source": [
    "myPow(2,5)"
   ]
  },
  {
   "cell_type": "code",
   "execution_count": 424,
   "metadata": {},
   "outputs": [],
   "source": [
    "def min_steps(n):\n",
    "    if n == 1:\n",
    "        return 0\n",
    "    if n%2==0:\n",
    "        return 1 + min_steps(int(n/2))\n",
    "    if n%3 == 0:\n",
    "        return 1 + min_steps(int(n/3))\n",
    "    else:\n",
    "        return 1 + min_steps(n-1)\n",
    "    \n",
    "    "
   ]
  },
  {
   "cell_type": "code",
   "execution_count": 426,
   "metadata": {},
   "outputs": [
    {
     "data": {
      "text/plain": [
       "4"
      ]
     },
     "execution_count": 426,
     "metadata": {},
     "output_type": "execute_result"
    }
   ],
   "source": [
    "min_steps(10)"
   ]
  },
  {
   "cell_type": "code",
   "execution_count": 367,
   "metadata": {},
   "outputs": [],
   "source": [
    "save_steps = {}\n",
    "factorial_steps = {}"
   ]
  },
  {
   "cell_type": "code",
   "execution_count": 335,
   "metadata": {},
   "outputs": [],
   "source": [
    "def factorial(n):\n",
    "    if n == 0:\n",
    "        return 1\n",
    "    elif n not in save_steps:\n",
    "        save_steps[n] = n*factorial(n-1)\n",
    "    return save_steps[n]"
   ]
  },
  {
   "cell_type": "code",
   "execution_count": 338,
   "metadata": {},
   "outputs": [
    {
     "data": {
      "text/plain": [
       "120"
      ]
     },
     "execution_count": 338,
     "metadata": {},
     "output_type": "execute_result"
    }
   ],
   "source": [
    "factorial(5)"
   ]
  },
  {
   "cell_type": "code",
   "execution_count": 337,
   "metadata": {},
   "outputs": [
    {
     "data": {
      "text/plain": [
       "{1: 1, 2: 2, 3: 6}"
      ]
     },
     "execution_count": 337,
     "metadata": {},
     "output_type": "execute_result"
    }
   ],
   "source": []
  },
  {
   "cell_type": "code",
   "execution_count": 372,
   "metadata": {},
   "outputs": [],
   "source": [
    "def fib(n):\n",
    "    if n == 0:\n",
    "        return 0\n",
    "    elif n == 1:\n",
    "        return 1\n",
    "    elif n not in factorial_steps:\n",
    "        factorial_steps[n] = fib(n-1)+fib(n-2)\n",
    "    return factorial_steps[n]"
   ]
  },
  {
   "cell_type": "code",
   "execution_count": 374,
   "metadata": {},
   "outputs": [
    {
     "data": {
      "text/plain": [
       "5"
      ]
     },
     "execution_count": 374,
     "metadata": {},
     "output_type": "execute_result"
    }
   ],
   "source": [
    "fib(5)"
   ]
  },
  {
   "cell_type": "code",
   "execution_count": 375,
   "metadata": {
    "scrolled": true
   },
   "outputs": [
    {
     "data": {
      "text/plain": [
       "{2: 1, 3: 2, 4: 3, 5: 5}"
      ]
     },
     "execution_count": 375,
     "metadata": {},
     "output_type": "execute_result"
    }
   ],
   "source": [
    "factorial_steps"
   ]
  },
  {
   "cell_type": "code",
   "execution_count": 485,
   "metadata": {},
   "outputs": [],
   "source": [
    "coins = [1,2,5]\n",
    "amount = 11\n",
    "curr_amounts = [amount]*len(coins)\n"
   ]
  },
  {
   "cell_type": "code",
   "execution_count": 486,
   "metadata": {},
   "outputs": [
    {
     "data": {
      "text/plain": [
       "[6, 6, 6]"
      ]
     },
     "execution_count": 486,
     "metadata": {},
     "output_type": "execute_result"
    }
   ],
   "source": [
    "temp_list = []\n",
    "[min(a_i - b_i for a_i, b_i in zip(curr_amounts, coins))]*len(coins)\n"
   ]
  },
  {
   "cell_type": "code",
   "execution_count": 574,
   "metadata": {},
   "outputs": [],
   "source": [
    "def coin_change(coins, amount):\n",
    "    temp = []\n",
    "    coins_used = []\n",
    "    \n",
    "    if amount == 0:\n",
    "        return 0\n",
    "    \n",
    "    while True:\n",
    "        for coin in coins:\n",
    "            temp.append(amount-coin)\n",
    "        if len(temp) == 1 and temp[0] < 0:\n",
    "            return -1\n",
    "        print(amount)\n",
    "        if not list(filter(lambda x: x>=0, temp)):\n",
    "            return len(coins_used)\n",
    "                    \n",
    "        amount = min((list(filter(lambda x: x>=0, temp))))\n",
    "        \n",
    "        \n",
    "        coins_used.append(coins[temp.index(amount)])\n",
    "        if 0 in temp:\n",
    "            return len(coins_used)\n",
    "        temp = []\n",
    "    "
   ]
  },
  {
   "cell_type": "code",
   "execution_count": 575,
   "metadata": {},
   "outputs": [
    {
     "name": "stdout",
     "output_type": "stream",
     "text": [
      "6249\n",
      "5830\n",
      "5411\n",
      "4992\n",
      "4573\n",
      "4154\n",
      "3735\n",
      "3316\n",
      "2897\n",
      "2478\n",
      "2059\n",
      "1640\n",
      "1221\n",
      "802\n",
      "383\n",
      "197\n",
      "11\n"
     ]
    },
    {
     "data": {
      "text/plain": [
       "16"
      ]
     },
     "execution_count": 575,
     "metadata": {},
     "output_type": "execute_result"
    }
   ],
   "source": [
    "coin_change([186,419,83,408],6249)"
   ]
  },
  {
   "cell_type": "code",
   "execution_count": null,
   "metadata": {},
   "outputs": [],
   "source": []
  }
 ],
 "metadata": {
  "kernelspec": {
   "display_name": "Python 3",
   "language": "python",
   "name": "python3"
  },
  "language_info": {
   "codemirror_mode": {
    "name": "ipython",
    "version": 3
   },
   "file_extension": ".py",
   "mimetype": "text/x-python",
   "name": "python",
   "nbconvert_exporter": "python",
   "pygments_lexer": "ipython3",
   "version": "3.7.6"
  }
 },
 "nbformat": 4,
 "nbformat_minor": 4
}
